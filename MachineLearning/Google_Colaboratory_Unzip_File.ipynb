{
 "cells": [
  {
   "cell_type": "code",
   "execution_count": null,
   "id": "9227e9b5",
   "metadata": {},
   "outputs": [],
   "source": [
    "Original command: !unzip -q ../”ZIP FOLDER NAME.zip” -d ../ # change the \"ZIP FOLDER NAME\" to your ZIP folder name\n",
    "Command: !unzip -q ../MaskDataSet.zip -d ../ # this is for the example if the ZIP folder name is, \"MaskDataSet.zip\"\n"
   ]
  }
 ],
 "metadata": {},
 "nbformat": 4,
 "nbformat_minor": 5
}
