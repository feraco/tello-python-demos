{
 "cells": [
  {
   "cell_type": "markdown",
   "id": "cb1cfd02",
   "metadata": {},
   "source": [
    "| Explanation                                          | Code Command                          | Example of Use                    | Explanation of Example                                    |\n",
    "|------------------------------------------------------|---------------------------------------|----------------------------------|-----------------------------------------------------------|\n",
    "| Connects to the drone and initiates SDK mode.        | `tello.connect()`                     | `tello.connect()`                | Establishes a connection with the drone.                  |\n",
    "| Sends a keepalive message to prevent auto-landing.   | `tello.send_keepalive()`              | `tello.send_keepalive()`         | Sends a signal to avoid automatic landing due to inactivity.|\n",
    "| Turns motors on without flying (for cooling).        | `tello.turn_motor_on()`               | `tello.turn_motor_on()`          | Activates the motors without initiating flight for cooling purposes. |\n",
    "| Turns off the motor cooling mode.                    | `tello.turn_motor_off()`              | `tello.turn_motor_off()`         | Deactivates the cooling mode by turning off the motors.   |\n",
    "| Enables throw takeoff mode.                          | `tello.initiate_throw_takeoff()`      | `tello.initiate_throw_takeoff()` | Enables the mode that allows the drone to take off when thrown into the air. |\n",
    "| Drone takes off automatically.                       | `tello.takeoff()`                     | `tello.takeoff()`                | Commands the drone to automatically take off.              |\n",
    "| Drone lands automatically.                           | `tello.land()`                        | `tello.land()`                   | Commands the drone to land automatically.                  |\n",
    "| Initiates video streaming from the drone.            | `tello.streamon()`                    | `tello.streamon()`               | Begins streaming video from the drone’s camera.            |\n",
    "| Halts video streaming from the drone.                | `tello.streamoff()`                   | `tello.streamoff()`              | Stops streaming video from the drone’s camera.             |\n",
    "| Stops all motors immediately.                        | `tello.emergency()`                   | `tello.emergency()`              | Instantly halts all motor functions.                       |\n",
    "| Move the drone in a specified direction.             | `tello.move_forward()`                | `tello.move_forward(100)`        | Commands the drone to move forward by 100 units.          |\n",
    "| Move the drone in a specified direction.             | `tello.move_left()`                   | `tello.move_left(100)`           |                                                           |\n",
    "| Move the drone in a specified direction.             | `tello.move_backward()`               | `tello.move_backward(100)`       | Commands the drone to move forward by 100 units.          |\n",
    "| Move the drone in a specified direction.             | `tello.move_right()`                  | `tello.move_right(100)`          |                                                           |\n",
    "| Move the drone in a specified direction.             | `tello.move_up()`                     | `tello.move_up(100)`             |                                                           |\n",
    "| Move the drone in a specified direction.             | `tello.move_down()`                   | `tello.move_down(100)`           |                                                           |\n",
    "| Rotates the drone clockwise by x degrees.            | `tello.rotate_clockwise(x)`           | `tello.rotate_clockwise(90)`     | Rotates the drone clockwise by 90 degrees.                |\n",
    "| Rotates the drone counter-clockwise by x degrees.    | `tello.rotate_counter_clockwise(x)`   | `tello.rotate_counter_clockwise(90)` | Rotates the drone counter-clockwise by 90 degrees.    |\n",
    "| Flips the drone in a specified direction.            | `tello.flip(direction)`               | `tello.flip('l')`                | Commands the drone to perform a left flip.                 |\n",
    "| Attains the state of the Tello                      | `tello.get_current_state()`           | `tello.get_current_state()`      |                                                           |\n",
    "| Get a specific state field by name.                  | `tello.get_state_field(key)`          | `tello.get_state_field(key)`     |                                                           |\n",
    "| ID of the currently detected mission pad.            | `tello.get_mission_pad_id()`          | `tello.get_mission_pad_id()`     |                                                           |\n",
    "| X distance to current mission pad.                   | `tello.get_mission_pad_distance_x()`  | `tello.get_mission_pad_distance_x()` |                                                     |\n",
    "| Y distance to current mission pad.                   | `tello.get_mission_pad_distance_y()`  | `tello.get_mission_pad_distance_y()` |                                                     |\n",
    "| Z distance to current mission pad.                   | `tello.get_mission_pad_distance_z()`  | `tello.get_mission_pad_distance_z()` |                                                     |\n",
    "| Get pitch in degree.                                 | `tello.get_pitch()`                   | `tello.get_pitch()`              |                                                           |\n",
    "| Get roll in degree.                                  | `tello.get_roll()`                    | `tello.get_roll()`               |                                                           |\n",
    "| Get yaw in degree.                                   | `tello.get_yaw()`                     | `tello.get_yaw()`                |                                                           |\n",
    "| X-Axis Speed.                                        | `tello.get_speed_x()`                 | `tello.get_speed_x()`            |                                                           |\n",
    "| Y-Axis Speed.                                        | `tello.get_speed_y()`                 | `tello.get_speed_y()`            |                                                           |\n",
    "| Z-Axis Speed.                                        | `tello.get_speed_z()`                 | `tello.get_speed_z()`            |                                                           |\n",
    "| X-Axis Acceleration.                                 | `tello.get_acceleration_x()`          | `tello.get_acceleration_x()`     |                                                           |\n",
    "| Y-Axis Acceleration.                                 | `tello.get_acceleration_y()`          | `tello.get_acceleration_y()`     |                                                           |\n",
    "| Z-Axis Acceleration.                                 | `tello.get_acceleration_z()`          | `tello.get_acceleration_z()`     |                                                           |\n",
    "| Get lowest temperature in °C.                        | `tello.get_lowest_temperature()`      | `tello.get_lowest_temperature()` |                                                           |\n",
    "| Get highest temperature in °C.                       | `tello.get_highest_temperature()`     | `tello.get_highest_temperature()`|                                                           |\n",
    "| Get average temperature in °C.                       | `tello.get_temperature()`             | `tello.get_temperature()`        |                                                           |\n",
    "| Get current height in cm.                            | `tello.get_height()`                  | `tello.get_height()`             |                                                           |\n",
    "| Get current distance value from TOF in cm.           | `tello.get_distance_tof()`            | `tello.get_distance_tof()`       |                                                           |\n",
    "| Get current barometer measurement in cm.             | `tello.get_barometer()`               | `tello.get_barometer()`          |                                                           |\n",
    "| Get the time the motors have been active in seconds. | `tello.get_flight_time()`             | `tello.get_flight_time()`        |                                                           |\n",
    "| Get current battery percentage.                      | `tello.get_battery()`                 | `tello.get_battery()`            |                                                           |\n",
    "| Get the UDP video address.                           | `tello.get_udp_video_address()`       | `tello.get_udp_video_address()`  |                                                           |\n",
    "| Get the BackgroundFrameRead object from the camera drone. | `tello.get_frame_read()`          | `tello.get_frame_read()`         |                                                           |\n",
    "\n"
   ]
  },
  {
   "cell_type": "markdown",
   "id": "574634e9",
   "metadata": {},
   "source": [
    "import libraries"
   ]
  },
  {
   "cell_type": "code",
   "execution_count": null,
   "id": "34c8c1f7",
   "metadata": {},
   "outputs": [],
   "source": [
    "\n",
    "import time, cv2\n",
    "from threading import Thread\n",
    "from djitellopy import Tello\n",
    "\n",
    "tello = Tello()\n",
    "tello.connect()\n"
   ]
  },
  {
   "cell_type": "markdown",
   "id": "0a9c08a3",
   "metadata": {},
   "source": [
    "camera setup"
   ]
  },
  {
   "cell_type": "code",
   "execution_count": null,
   "id": "5310e4a9",
   "metadata": {},
   "outputs": [],
   "source": [
    "\n",
    "keepRecording = True\n",
    "tello.streamon()\n",
    "frame_read = tello.get_frame_read()\n"
   ]
  },
  {
   "cell_type": "markdown",
   "id": "eec3a428",
   "metadata": {},
   "source": [
    "make a function or method"
   ]
  },
  {
   "cell_type": "code",
   "execution_count": null,
   "id": "dc2f8462",
   "metadata": {},
   "outputs": [],
   "source": [
    "\n",
    "def videoRecorder():\n",
    " "
   ]
  },
  {
   "cell_type": "markdown",
   "id": "c0ea8208",
   "metadata": {},
   "source": [
    "create a VideoWrite object, recording to ./video.avi"
   ]
  },
  {
   "cell_type": "code",
   "execution_count": null,
   "id": "ec717ec9",
   "metadata": {},
   "outputs": [],
   "source": [
    "\n",
    "    height, width, _ = frame_read.frame.shape\n",
    "    video = cv2.VideoWriter('Videos/video5.avi', cv2.VideoWriter_fourcc(*'XVID'), 30, (width, height))\n",
    "    while keepRecording:\n",
    "        video.write(frame_read.frame)\n",
    "        time.sleep(1 / 30)\n",
    "\n",
    "    video.release()\n"
   ]
  },
  {
   "cell_type": "markdown",
   "id": "35dbb067",
   "metadata": {},
   "source": [
    "we need to run the recorder in a separate thread, otherwise blocking options\n",
    "would prevent frames from getting added to the video"
   ]
  },
  {
   "cell_type": "code",
   "execution_count": null,
   "id": "3fe74bd8",
   "metadata": {},
   "outputs": [],
   "source": [
    "\n",
    "recorder = Thread(target=videoRecorder)\n",
    "recorder.start()\n"
   ]
  },
  {
   "cell_type": "markdown",
   "id": "a944318e",
   "metadata": {},
   "source": [
    "normal commands"
   ]
  },
  {
   "cell_type": "code",
   "execution_count": null,
   "id": "7fe5625b",
   "metadata": {},
   "outputs": [],
   "source": [
    "\n",
    "tello.takeoff()\n"
   ]
  },
  {
   "cell_type": "markdown",
   "id": "5070896f",
   "metadata": {},
   "source": [
    "these are the movement, you can change it whatever you want"
   ]
  },
  {
   "cell_type": "code",
   "execution_count": null,
   "id": "299a87e4",
   "metadata": {},
   "outputs": [],
   "source": [
    "\n",
    "tello.move_up(100)\n",
    "tello.rotate_counter_clockwise(360)\n"
   ]
  },
  {
   "cell_type": "markdown",
   "id": "8c352571",
   "metadata": {},
   "source": [
    "ends"
   ]
  },
  {
   "cell_type": "code",
   "execution_count": null,
   "id": "cd8306f0",
   "metadata": {},
   "outputs": [],
   "source": [
    "\n",
    "tello.land()\n",
    "\n",
    "keepRecording = False\n",
    "recorder.join()\n"
   ]
  }
 ],
 "metadata": {},
 "nbformat": 4,
 "nbformat_minor": 5
}
